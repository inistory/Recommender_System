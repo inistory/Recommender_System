{
  "nbformat": 4,
  "nbformat_minor": 0,
  "metadata": {
    "colab": {
      "name": "Apriori.ipynb",
      "provenance": [],
      "collapsed_sections": [],
      "authorship_tag": "ABX9TyN3MVvlFMEGqVKj8EdVgm9d",
      "include_colab_link": true
    },
    "kernelspec": {
      "display_name": "Python 3",
      "name": "python3"
    },
    "language_info": {
      "name": "python"
    }
  },
  "cells": [
    {
      "cell_type": "markdown",
      "metadata": {
        "id": "view-in-github",
        "colab_type": "text"
      },
      "source": [
        "<a href=\"https://colab.research.google.com/github/inistory/Recommender_System/blob/main/Apriori.ipynb\" target=\"_parent\"><img src=\"https://colab.research.google.com/assets/colab-badge.svg\" alt=\"Open In Colab\"/></a>"
      ]
    },
    {
      "cell_type": "code",
      "metadata": {
        "id": "nKtuobm7RrEv"
      },
      "source": [
        "import mlxtend\n",
        "import numpy as np\n",
        "import pandas as pd"
      ],
      "execution_count": null,
      "outputs": []
    },
    {
      "cell_type": "code",
      "metadata": {
        "colab": {
          "base_uri": "https://localhost:8080/"
        },
        "id": "hE-AHMtnRxue",
        "outputId": "a53fa1c2-adee-432c-b53b-f0ebb58143e1"
      },
      "source": [
        "#데이터셋 생성\n",
        "#우유, 귀저기 쥬스, 맥주, 양상추\n",
        "data = np.array([\n",
        "    ['우유', '기저귀', '쥬스'], #0번의 거래\n",
        "    ['양상추', '기저귀', '맥주'], #1번의 거래\n",
        "    ['우유', '양상추', '기저귀', '맥주'],\n",
        "    ['양상추', '맥주']\n",
        "])"
      ],
      "execution_count": null,
      "outputs": [
        {
          "name": "stderr",
          "output_type": "stream",
          "text": [
            "/usr/local/lib/python3.7/dist-packages/ipykernel_launcher.py:7: VisibleDeprecationWarning: Creating an ndarray from ragged nested sequences (which is a list-or-tuple of lists-or-tuples-or ndarrays with different lengths or shapes) is deprecated. If you meant to do this, you must specify 'dtype=object' when creating the ndarray\n",
            "  import sys\n"
          ]
        }
      ]
    },
    {
      "cell_type": "code",
      "metadata": {
        "id": "a1q5GCwHR7FI"
      },
      "source": [
        ""
      ],
      "execution_count": null,
      "outputs": []
    },
    {
      "cell_type": "markdown",
      "metadata": {
        "id": "_XiV77wvSUbi"
      },
      "source": [
        "# Apriori 알고리즘"
      ]
    },
    {
      "cell_type": "code",
      "metadata": {
        "colab": {
          "base_uri": "https://localhost:8080/"
        },
        "id": "PbIvdPYYSX7_",
        "outputId": "b1c923c2-07db-4ced-8898-ddca274ceb72"
      },
      "source": [
        "from mlxtend.preprocessing import TransactionEncoder #희소행렬(Sparse Matrix)을 만들기위해\n",
        "\n",
        "te = TransactionEncoder()\n",
        "te_ary = te.fit(data).transform(data)\n",
        "te_ary"
      ],
      "execution_count": null,
      "outputs": [
        {
          "data": {
            "text/plain": [
              "array([[ True, False, False,  True,  True],\n",
              "       [ True,  True,  True, False, False],\n",
              "       [ True,  True,  True,  True, False],\n",
              "       [False,  True,  True, False, False]])"
            ]
          },
          "execution_count": 3,
          "metadata": {},
          "output_type": "execute_result"
        }
      ]
    },
    {
      "cell_type": "code",
      "metadata": {
        "colab": {
          "base_uri": "https://localhost:8080/"
        },
        "id": "mshZ1mqNSugU",
        "outputId": "22c7139b-a614-40b8-dd31-be70fdc8c7ef"
      },
      "source": [
        "te.columns_ #컬럼 순서를 어떻게 기록하고 있는지"
      ],
      "execution_count": null,
      "outputs": [
        {
          "data": {
            "text/plain": [
              "['기저귀', '맥주', '양상추', '우유', '쥬스']"
            ]
          },
          "execution_count": 4,
          "metadata": {},
          "output_type": "execute_result"
        }
      ]
    },
    {
      "cell_type": "code",
      "metadata": {
        "id": "Jw_Zl-QJS_tA"
      },
      "source": [
        "df = pd.DataFrame(te_ary, columns=te.columnns)"
      ],
      "execution_count": null,
      "outputs": []
    }
  ]
}